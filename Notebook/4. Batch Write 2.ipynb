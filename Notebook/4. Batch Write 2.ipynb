{
 "cells": [
  {
   "cell_type": "markdown",
   "id": "c9e47f61",
   "metadata": {},
   "source": [
    "***\n",
    "# Writing <u>Multiple Points</u> into InfluxDB using the <u>Line Protocol</u> format\n",
    "***"
   ]
  },
  {
   "cell_type": "code",
   "execution_count": 25,
   "id": "1aeff5b9",
   "metadata": {},
   "outputs": [],
   "source": [
    "from datetime import datetime\n",
    "import random\n",
    "import time\n",
    "\n",
    "from influxdb_client import InfluxDBClient, Point, WritePrecision\n",
    "from influxdb_client.client.write_api import SYNCHRONOUS"
   ]
  },
  {
   "cell_type": "markdown",
   "id": "7bb9a3a4",
   "metadata": {},
   "source": [
    "### 1. Specify credentials"
   ]
  },
  {
   "cell_type": "code",
   "execution_count": 17,
   "id": "7ad18100",
   "metadata": {},
   "outputs": [],
   "source": [
    "token = \"eehoW7NSFeObcVPPN9evABWtlJG9jBjgLUs_arDuGOqJPGsYAHJ6hN2XTGakbhPhFsxecCPa-NhLytdgqvvU4w==\"\n",
    "org = \"skymind\"\n",
    "bucket = \"python-bucket\""
   ]
  },
  {
   "cell_type": "markdown",
   "id": "9f5b03a9",
   "metadata": {},
   "source": [
    "### 2. Establish connection"
   ]
  },
  {
   "cell_type": "code",
   "execution_count": 18,
   "id": "782ed524",
   "metadata": {},
   "outputs": [],
   "source": [
    "client = InfluxDBClient(url=\"http://localhost:8086\", token=token)"
   ]
  },
  {
   "cell_type": "markdown",
   "id": "a7be38b3",
   "metadata": {},
   "source": [
    "### 3. Instantiate WriteApi object"
   ]
  },
  {
   "cell_type": "code",
   "execution_count": 19,
   "id": "58ed41f2",
   "metadata": {},
   "outputs": [],
   "source": [
    "write_api = client.write_api(write_options=SYNCHRONOUS)"
   ]
  },
  {
   "cell_type": "markdown",
   "id": "0faf1d51",
   "metadata": {},
   "source": [
    "### 4. Create Batches of Data in Line Protocol Format"
   ]
  },
  {
   "cell_type": "markdown",
   "id": "c03d1a06",
   "metadata": {},
   "source": [
    "*Line Protocol:*      `\"Measurement, Tag Set, Field Set, Timestamp\"`"
   ]
  },
  {
   "cell_type": "code",
   "execution_count": 29,
   "id": "748bb470",
   "metadata": {},
   "outputs": [],
   "source": [
    "data_sequence = []\n",
    "percent = 10\n",
    "for i in range(20):\n",
    "    percent += i\n",
    "    data_sequence.append(f\"water-level,tank=tank1 used_percent={percent}\")\n",
    "    \n",
    "    percent = random.randrange(20, 40)\n",
    "    data_sequence.append(f\"water-level,tank=tank2 used_percent={percent}\")\n",
    "    \n",
    "    write_api.write(bucket, org, data_sequence)\n",
    "    data_sequence = []\n",
    "    time.sleep(1)"
   ]
  },
  {
   "cell_type": "code",
   "execution_count": 27,
   "id": "e9f2ed13",
   "metadata": {},
   "outputs": [
    {
     "name": "stdout",
     "output_type": "stream",
     "text": [
      "water-level,tank=tank1 used_percent=10\n",
      "water-level,tank=tank2 used_percent=23\n",
      "water-level,tank=tank1 used_percent=24\n",
      "water-level,tank=tank2 used_percent=35\n",
      "water-level,tank=tank1 used_percent=37\n",
      "water-level,tank=tank2 used_percent=24\n",
      "water-level,tank=tank1 used_percent=27\n",
      "water-level,tank=tank2 used_percent=22\n",
      "water-level,tank=tank1 used_percent=26\n",
      "water-level,tank=tank2 used_percent=31\n",
      "water-level,tank=tank1 used_percent=36\n",
      "water-level,tank=tank2 used_percent=22\n",
      "water-level,tank=tank1 used_percent=28\n",
      "water-level,tank=tank2 used_percent=31\n",
      "water-level,tank=tank1 used_percent=38\n",
      "water-level,tank=tank2 used_percent=38\n",
      "water-level,tank=tank1 used_percent=46\n",
      "water-level,tank=tank2 used_percent=35\n",
      "water-level,tank=tank1 used_percent=44\n",
      "water-level,tank=tank2 used_percent=23\n",
      "water-level,tank=tank1 used_percent=33\n",
      "water-level,tank=tank2 used_percent=37\n",
      "water-level,tank=tank1 used_percent=48\n",
      "water-level,tank=tank2 used_percent=35\n",
      "water-level,tank=tank1 used_percent=47\n",
      "water-level,tank=tank2 used_percent=29\n",
      "water-level,tank=tank1 used_percent=42\n",
      "water-level,tank=tank2 used_percent=30\n",
      "water-level,tank=tank1 used_percent=44\n",
      "water-level,tank=tank2 used_percent=39\n",
      "water-level,tank=tank1 used_percent=54\n",
      "water-level,tank=tank2 used_percent=29\n",
      "water-level,tank=tank1 used_percent=45\n",
      "water-level,tank=tank2 used_percent=37\n",
      "water-level,tank=tank1 used_percent=54\n",
      "water-level,tank=tank2 used_percent=27\n",
      "water-level,tank=tank1 used_percent=45\n",
      "water-level,tank=tank2 used_percent=31\n",
      "water-level,tank=tank1 used_percent=50\n",
      "water-level,tank=tank2 used_percent=23\n"
     ]
    }
   ],
   "source": [
    "for i in data_sequence:\n",
    "    print(i)"
   ]
  },
  {
   "cell_type": "markdown",
   "id": "cb0f0057",
   "metadata": {},
   "source": [
    "### 5. Write the Data to the bucket"
   ]
  },
  {
   "cell_type": "code",
   "execution_count": 24,
   "id": "b5746bb9",
   "metadata": {},
   "outputs": [],
   "source": [
    "write_api.write(bucket, org, data_sequence)"
   ]
  },
  {
   "cell_type": "code",
   "execution_count": null,
   "id": "bb858455",
   "metadata": {},
   "outputs": [],
   "source": []
  }
 ],
 "metadata": {
  "kernelspec": {
   "display_name": "Python 3 (ipykernel)",
   "language": "python",
   "name": "python3"
  },
  "language_info": {
   "codemirror_mode": {
    "name": "ipython",
    "version": 3
   },
   "file_extension": ".py",
   "mimetype": "text/x-python",
   "name": "python",
   "nbconvert_exporter": "python",
   "pygments_lexer": "ipython3",
   "version": "3.9.7"
  }
 },
 "nbformat": 4,
 "nbformat_minor": 5
}
