{
 "cells": [
  {
   "cell_type": "markdown",
   "id": "c9e47f61",
   "metadata": {},
   "source": [
    "***\n",
    "# Reading <u>Multiple Points</u> from InfluxDB using <u>Flux</u> query\n",
    "***"
   ]
  },
  {
   "cell_type": "markdown",
   "id": "04a3f7a4",
   "metadata": {},
   "source": [
    "***\n",
    "## Note\n",
    "To query data on InfluxDB, you can use either InfluxQL or Flux.\n",
    "\n",
    "- InfluxQL resembles SQL so the statements are almost similar\n",
    "- Flux is a functional scripting as well as query language\n",
    "\n",
    "Flux is more flexible and powerful than InfluxQL. There are some queries than can only be done using Flux as the statement is not available in InfluxQL. Its worth to mention that since InfluxDB 2.0 version, querying using InfluxQL is discouraged.\n",
    "***"
   ]
  },
  {
   "cell_type": "code",
   "execution_count": 1,
   "id": "1aeff5b9",
   "metadata": {},
   "outputs": [],
   "source": [
    "from datetime import datetime\n",
    "\n",
    "from influxdb_client import InfluxDBClient, Point, WritePrecision\n",
    "from influxdb_client.client.write_api import SYNCHRONOUS"
   ]
  },
  {
   "cell_type": "markdown",
   "id": "7bb9a3a4",
   "metadata": {},
   "source": [
    "### 1. Specify the credentials"
   ]
  },
  {
   "cell_type": "code",
   "execution_count": 2,
   "id": "7ad18100",
   "metadata": {},
   "outputs": [],
   "source": [
    "token = \"eehoW7NSFeObcVPPN9evABWtlJG9jBjgLUs_arDuGOqJPGsYAHJ6hN2XTGakbhPhFsxecCPa-NhLytdgqvvU4w==\"\n",
    "org = \"skymind\"\n",
    "bucket = \"python-bucket\""
   ]
  },
  {
   "cell_type": "markdown",
   "id": "9f5b03a9",
   "metadata": {},
   "source": [
    "### 2. Establish connection"
   ]
  },
  {
   "cell_type": "code",
   "execution_count": 3,
   "id": "782ed524",
   "metadata": {},
   "outputs": [],
   "source": [
    "client = InfluxDBClient(url=\"http://localhost:8086\", token=token)"
   ]
  },
  {
   "cell_type": "markdown",
   "id": "a7be38b3",
   "metadata": {},
   "source": [
    "### 3. Write flux query"
   ]
  },
  {
   "cell_type": "code",
   "execution_count": 4,
   "id": "58ed41f2",
   "metadata": {},
   "outputs": [],
   "source": [
    "# Create a query and pass the query to the api\n",
    "query = f'from(bucket: \"{bucket}\") |> range(start: -1h) \\\n",
    "        |> filter(fn:(r) => r._measurement == \"memory\")'\n"
   ]
  },
  {
   "cell_type": "markdown",
   "id": "0faf1d51",
   "metadata": {},
   "source": [
    "### 4. Pass the query string to the Query API"
   ]
  },
  {
   "cell_type": "code",
   "execution_count": 5,
   "id": "aa734038",
   "metadata": {},
   "outputs": [],
   "source": [
    "tables = client.query_api().query(query, org=org)"
   ]
  },
  {
   "cell_type": "markdown",
   "id": "cb0f0057",
   "metadata": {},
   "source": [
    "### 5. Print the Data Retrieved"
   ]
  },
  {
   "cell_type": "code",
   "execution_count": 6,
   "id": "2ce1861e",
   "metadata": {},
   "outputs": [
    {
     "name": "stdout",
     "output_type": "stream",
     "text": [
      "Table 0\n",
      "used_percent\n",
      "15.856523\n"
     ]
    }
   ],
   "source": [
    "for i, table in enumerate(tables):\n",
    "    print(f\"Table {i}\")\n",
    "    for row in table:\n",
    "        # print(record)\n",
    "        print(row.get_field())\n",
    "        print(row.get_value())"
   ]
  },
  {
   "cell_type": "code",
   "execution_count": null,
   "id": "de45200c",
   "metadata": {},
   "outputs": [],
   "source": [
    "client.close()"
   ]
  }
 ],
 "metadata": {
  "kernelspec": {
   "display_name": "Python 3 (ipykernel)",
   "language": "python",
   "name": "python3"
  },
  "language_info": {
   "codemirror_mode": {
    "name": "ipython",
    "version": 3
   },
   "file_extension": ".py",
   "mimetype": "text/x-python",
   "name": "python",
   "nbconvert_exporter": "python",
   "pygments_lexer": "ipython3",
   "version": "3.9.7"
  }
 },
 "nbformat": 4,
 "nbformat_minor": 5
}
