{
 "cells": [
  {
   "cell_type": "markdown",
   "id": "c9e47f61",
   "metadata": {},
   "source": [
    "***\n",
    "# Deleting <u>Multiple Points</u> on InfluxDB using the <u>Delete API</u>\n",
    "***"
   ]
  },
  {
   "cell_type": "code",
   "execution_count": 1,
   "id": "1aeff5b9",
   "metadata": {},
   "outputs": [],
   "source": [
    "from datetime import datetime\n",
    "\n",
    "from influxdb_client import InfluxDBClient, Point, WritePrecision\n",
    "from influxdb_client.client.write_api import SYNCHRONOUS"
   ]
  },
  {
   "cell_type": "markdown",
   "id": "7bb9a3a4",
   "metadata": {},
   "source": [
    "### 1. Specify the Configurations"
   ]
  },
  {
   "cell_type": "code",
   "execution_count": 2,
   "id": "7ad18100",
   "metadata": {},
   "outputs": [],
   "source": [
    "token = \"eehoW7NSFeObcVPPN9evABWtlJG9jBjgLUs_arDuGOqJPGsYAHJ6hN2XTGakbhPhFsxecCPa-NhLytdgqvvU4w==\"\n",
    "org = \"skymind\"\n",
    "bucket = \"python-bucket\""
   ]
  },
  {
   "cell_type": "markdown",
   "id": "9f5b03a9",
   "metadata": {},
   "source": [
    "### 2. Establish connection"
   ]
  },
  {
   "cell_type": "code",
   "execution_count": 3,
   "id": "782ed524",
   "metadata": {},
   "outputs": [],
   "source": [
    "client = InfluxDBClient(url=\"http://localhost:8086\", token=token)"
   ]
  },
  {
   "cell_type": "markdown",
   "id": "a7be38b3",
   "metadata": {},
   "source": [
    "### 3. Create the client WriteApi object"
   ]
  },
  {
   "cell_type": "code",
   "execution_count": 4,
   "id": "58ed41f2",
   "metadata": {},
   "outputs": [],
   "source": [
    "delete_api = client.delete_api()"
   ]
  },
  {
   "cell_type": "markdown",
   "id": "0faf1d51",
   "metadata": {},
   "source": [
    "### 4. Specify the time interval to delete the data"
   ]
  },
  {
   "cell_type": "markdown",
   "id": "c03d1a06",
   "metadata": {},
   "source": [
    "The time format can also be in Unix time format"
   ]
  },
  {
   "cell_type": "code",
   "execution_count": 5,
   "id": "498c8340",
   "metadata": {},
   "outputs": [],
   "source": [
    "start = \"1970-01-01T00:00:00Z\"\n",
    "stop = \"2022-02-01T00:00:00Z\""
   ]
  },
  {
   "cell_type": "markdown",
   "id": "cb0f0057",
   "metadata": {},
   "source": [
    "### 5. Execute the delete method with the interval specified"
   ]
  },
  {
   "cell_type": "code",
   "execution_count": 8,
   "id": "ae347e3b",
   "metadata": {},
   "outputs": [],
   "source": [
    "delete_api.delete(start, stop, '_measurement=\"water-level\"', bucket, org)"
   ]
  },
  {
   "cell_type": "markdown",
   "id": "f9f154c3",
   "metadata": {},
   "source": [
    "### 6. Close the Client"
   ]
  },
  {
   "cell_type": "code",
   "execution_count": 7,
   "id": "562c9d8e",
   "metadata": {},
   "outputs": [],
   "source": [
    "client.close()"
   ]
  }
 ],
 "metadata": {
  "kernelspec": {
   "display_name": "Python 3 (ipykernel)",
   "language": "python",
   "name": "python3"
  },
  "language_info": {
   "codemirror_mode": {
    "name": "ipython",
    "version": 3
   },
   "file_extension": ".py",
   "mimetype": "text/x-python",
   "name": "python",
   "nbconvert_exporter": "python",
   "pygments_lexer": "ipython3",
   "version": "3.9.7"
  }
 },
 "nbformat": 4,
 "nbformat_minor": 5
}
