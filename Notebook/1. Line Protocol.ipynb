{
 "cells": [
  {
   "cell_type": "markdown",
   "id": "c9e47f61",
   "metadata": {},
   "source": [
    "***\n",
    "# Writing <u>One Point</u> into InfluxDB using the <u>Line Protocol</u> format\n",
    "***"
   ]
  },
  {
   "cell_type": "markdown",
   "id": "bfece22a",
   "metadata": {},
   "source": [
    "***\n",
    "## Note\n",
    "There are many ways to write data to InfluxDB. We can do so using:\n",
    "    \n",
    "- CSV File\n",
    "- CLI\n",
    "- Flux\n",
    "- API Endpoints\n",
    "- API Client Library\n",
    "- Telegraf\n",
    "- External Program (AWS)\n",
    "***"
   ]
  },
  {
   "cell_type": "markdown",
   "id": "cc3e263b",
   "metadata": {},
   "source": [
    "### 1. import influxdb client library"
   ]
  },
  {
   "cell_type": "code",
   "execution_count": 5,
   "id": "1aeff5b9",
   "metadata": {},
   "outputs": [],
   "source": [
    "from datetime import datetime\n",
    "\n",
    "from influxdb_client import InfluxDBClient, Point, WritePrecision\n",
    "from influxdb_client.client.write_api import SYNCHRONOUS"
   ]
  },
  {
   "cell_type": "markdown",
   "id": "7bb9a3a4",
   "metadata": {},
   "source": [
    "### 2. Specify credentials"
   ]
  },
  {
   "cell_type": "code",
   "execution_count": 6,
   "id": "7ad18100",
   "metadata": {},
   "outputs": [],
   "source": [
    "token = \"eehoW7NSFeObcVPPN9evABWtlJG9jBjgLUs_arDuGOqJPGsYAHJ6hN2XTGakbhPhFsxecCPa-NhLytdgqvvU4w==\"\n",
    "org = \"skymind\"\n",
    "bucket = \"python-bucket\""
   ]
  },
  {
   "cell_type": "markdown",
   "id": "9f5b03a9",
   "metadata": {},
   "source": [
    "### 3. Establish connection"
   ]
  },
  {
   "cell_type": "code",
   "execution_count": 7,
   "id": "782ed524",
   "metadata": {},
   "outputs": [],
   "source": [
    "client = InfluxDBClient(url=\"http://localhost:8086\", token=token)"
   ]
  },
  {
   "cell_type": "markdown",
   "id": "a7be38b3",
   "metadata": {},
   "source": [
    "### 4. Instantiate WriteApi object"
   ]
  },
  {
   "cell_type": "code",
   "execution_count": 8,
   "id": "58ed41f2",
   "metadata": {},
   "outputs": [],
   "source": [
    "write_api = client.write_api(write_options=SYNCHRONOUS)"
   ]
  },
  {
   "cell_type": "markdown",
   "id": "0faf1d51",
   "metadata": {},
   "source": [
    "### 5. Specify the data in Line Protocol Formal"
   ]
  },
  {
   "cell_type": "markdown",
   "id": "c03d1a06",
   "metadata": {},
   "source": [
    "*Line Protocol:*      `\"Measurement, Tag Set, Field Set, Timestamp\"`"
   ]
  },
  {
   "cell_type": "code",
   "execution_count": 9,
   "id": "e11239b5",
   "metadata": {},
   "outputs": [],
   "source": [
    "data = \"memory,pc=pc1 used_percent=23.43234543\""
   ]
  },
  {
   "cell_type": "markdown",
   "id": "cb0f0057",
   "metadata": {},
   "source": [
    "### 6. Write data to the bucket"
   ]
  },
  {
   "cell_type": "code",
   "execution_count": 10,
   "id": "f06dc538",
   "metadata": {},
   "outputs": [],
   "source": [
    "write_api.write(bucket, org, data)"
   ]
  },
  {
   "cell_type": "code",
   "execution_count": null,
   "id": "28ef03c5",
   "metadata": {},
   "outputs": [],
   "source": []
  }
 ],
 "metadata": {
  "kernelspec": {
   "display_name": "Python 3 (ipykernel)",
   "language": "python",
   "name": "python3"
  },
  "language_info": {
   "codemirror_mode": {
    "name": "ipython",
    "version": 3
   },
   "file_extension": ".py",
   "mimetype": "text/x-python",
   "name": "python",
   "nbconvert_exporter": "python",
   "pygments_lexer": "ipython3",
   "version": "3.9.7"
  }
 },
 "nbformat": 4,
 "nbformat_minor": 5
}
