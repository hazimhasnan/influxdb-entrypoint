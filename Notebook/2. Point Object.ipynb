{
 "cells": [
  {
   "cell_type": "markdown",
   "id": "c9e47f61",
   "metadata": {},
   "source": [
    "***\n",
    "# Writing <u>One Point</u> into InfluxDB using the <u>Point Object</u>\n",
    "***"
   ]
  },
  {
   "cell_type": "markdown",
   "id": "d5cd975e",
   "metadata": {},
   "source": [
    "### 1. Import influxdb client library"
   ]
  },
  {
   "cell_type": "code",
   "execution_count": 1,
   "id": "1aeff5b9",
   "metadata": {},
   "outputs": [],
   "source": [
    "from datetime import datetime\n",
    "\n",
    "from influxdb_client import InfluxDBClient, Point, WritePrecision\n",
    "from influxdb_client.client.write_api import SYNCHRONOUS"
   ]
  },
  {
   "cell_type": "markdown",
   "id": "7bb9a3a4",
   "metadata": {},
   "source": [
    "### 2. Specify the Credentials"
   ]
  },
  {
   "cell_type": "code",
   "execution_count": 2,
   "id": "7ad18100",
   "metadata": {},
   "outputs": [],
   "source": [
    "token = \"eehoW7NSFeObcVPPN9evABWtlJG9jBjgLUs_arDuGOqJPGsYAHJ6hN2XTGakbhPhFsxecCPa-NhLytdgqvvU4w==\"\n",
    "org = \"skymind\"\n",
    "bucket = \"python-bucket\""
   ]
  },
  {
   "cell_type": "markdown",
   "id": "9f5b03a9",
   "metadata": {},
   "source": [
    "### 3. Establish connection"
   ]
  },
  {
   "cell_type": "code",
   "execution_count": 3,
   "id": "782ed524",
   "metadata": {},
   "outputs": [],
   "source": [
    "client = InfluxDBClient(url=\"http://localhost:8086\", token=token)"
   ]
  },
  {
   "cell_type": "markdown",
   "id": "a7be38b3",
   "metadata": {},
   "source": [
    "### 4. Instantiate WriteApi object"
   ]
  },
  {
   "cell_type": "code",
   "execution_count": 4,
   "id": "58ed41f2",
   "metadata": {},
   "outputs": [],
   "source": [
    "write_api = client.write_api(write_options=SYNCHRONOUS)"
   ]
  },
  {
   "cell_type": "markdown",
   "id": "0faf1d51",
   "metadata": {},
   "source": [
    "### 5. Instantiate the Point Object using the data"
   ]
  },
  {
   "cell_type": "code",
   "execution_count": 5,
   "id": "15879148",
   "metadata": {},
   "outputs": [],
   "source": [
    "point = Point(\"water-level\")\\\n",
    "  .tag(\"tank\", \"tank1\")\\\n",
    "  .field(\"percentage\", 25.43234543)\\\n",
    "  .time(datetime.utcnow(), WritePrecision.NS)"
   ]
  },
  {
   "cell_type": "markdown",
   "id": "cb0f0057",
   "metadata": {},
   "source": [
    "### 6. Write the data to the bucket"
   ]
  },
  {
   "cell_type": "code",
   "execution_count": 6,
   "id": "737db0ce",
   "metadata": {},
   "outputs": [],
   "source": [
    "write_api.write(bucket, org, point)"
   ]
  },
  {
   "cell_type": "code",
   "execution_count": null,
   "id": "ae4c8e19",
   "metadata": {},
   "outputs": [],
   "source": []
  }
 ],
 "metadata": {
  "kernelspec": {
   "display_name": "Python 3 (ipykernel)",
   "language": "python",
   "name": "python3"
  },
  "language_info": {
   "codemirror_mode": {
    "name": "ipython",
    "version": 3
   },
   "file_extension": ".py",
   "mimetype": "text/x-python",
   "name": "python",
   "nbconvert_exporter": "python",
   "pygments_lexer": "ipython3",
   "version": "3.9.7"
  }
 },
 "nbformat": 4,
 "nbformat_minor": 5
}
