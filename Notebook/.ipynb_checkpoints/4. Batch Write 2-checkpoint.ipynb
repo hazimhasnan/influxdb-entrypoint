{
 "cells": [
  {
   "cell_type": "markdown",
   "id": "c9e47f61",
   "metadata": {},
   "source": [
    "***\n",
    "# Writing <u>One Point</u> into InfluxDB using the <u>Line Protocol</u> format\n",
    "***"
   ]
  },
  {
   "cell_type": "code",
   "execution_count": 3,
   "id": "1aeff5b9",
   "metadata": {},
   "outputs": [],
   "source": [
    "from datetime import datetime\n",
    "\n",
    "from influxdb_client import InfluxDBClient, Point, WritePrecision\n",
    "from influxdb_client.client.write_api import SYNCHRONOUS"
   ]
  },
  {
   "cell_type": "markdown",
   "id": "7bb9a3a4",
   "metadata": {},
   "source": [
    "### 1) Specify the Configurations"
   ]
  },
  {
   "cell_type": "code",
   "execution_count": null,
   "id": "7ad18100",
   "metadata": {},
   "outputs": [],
   "source": [
    "token = \"eehoW7NSFeObcVPPN9evABWtlJG9jBjgLUs_arDuGOqJPGsYAHJ6hN2XTGakbhPhFsxecCPa-NhLytdgqvvU4w==\"\n",
    "org = \"skymind\"\n",
    "bucket = \"python-bucket\""
   ]
  },
  {
   "cell_type": "markdown",
   "id": "9f5b03a9",
   "metadata": {},
   "source": [
    "### 2) Establish connection"
   ]
  },
  {
   "cell_type": "code",
   "execution_count": 4,
   "id": "782ed524",
   "metadata": {},
   "outputs": [
    {
     "ename": "NameError",
     "evalue": "name 'token' is not defined",
     "output_type": "error",
     "traceback": [
      "\u001b[1;31m---------------------------------------------------------------------------\u001b[0m",
      "\u001b[1;31mNameError\u001b[0m                                 Traceback (most recent call last)",
      "\u001b[1;32m~\\AppData\\Local\\Temp/ipykernel_11856/3074351690.py\u001b[0m in \u001b[0;36m<module>\u001b[1;34m\u001b[0m\n\u001b[1;32m----> 1\u001b[1;33m \u001b[0mclient\u001b[0m \u001b[1;33m=\u001b[0m \u001b[0mInfluxDBClient\u001b[0m\u001b[1;33m(\u001b[0m\u001b[0murl\u001b[0m\u001b[1;33m=\u001b[0m\u001b[1;34m\"http://localhost:8086\"\u001b[0m\u001b[1;33m,\u001b[0m \u001b[0mtoken\u001b[0m\u001b[1;33m=\u001b[0m\u001b[0mtoken\u001b[0m\u001b[1;33m)\u001b[0m\u001b[1;33m\u001b[0m\u001b[1;33m\u001b[0m\u001b[0m\n\u001b[0m",
      "\u001b[1;31mNameError\u001b[0m: name 'token' is not defined"
     ]
    }
   ],
   "source": [
    "client = InfluxDBClient(url=\"http://localhost:8086\", token=token)"
   ]
  },
  {
   "cell_type": "markdown",
   "id": "a7be38b3",
   "metadata": {},
   "source": [
    "#### 3) Create WriteApi object"
   ]
  },
  {
   "cell_type": "code",
   "execution_count": null,
   "id": "58ed41f2",
   "metadata": {},
   "outputs": [],
   "source": [
    "write_api = client.write_api(write_options=SYNCHRONOUS)"
   ]
  },
  {
   "cell_type": "markdown",
   "id": "0faf1d51",
   "metadata": {},
   "source": [
    "#### 4) Specify the Data in Line Protocol Formal"
   ]
  },
  {
   "cell_type": "markdown",
   "id": "c03d1a06",
   "metadata": {},
   "source": [
    "*Line Protocol:*      `\"Measurement, Tag Set, Field Set, Timestamp\"`"
   ]
  },
  {
   "cell_type": "markdown",
   "id": "c4bc0af0",
   "metadata": {},
   "source": [
    "data = \"memory,pc=pc1 used_percent=23.43234543\""
   ]
  },
  {
   "cell_type": "markdown",
   "id": "cb0f0057",
   "metadata": {},
   "source": [
    "#### 5) Write the Data to the bucket"
   ]
  },
  {
   "cell_type": "markdown",
   "id": "abb4b85f",
   "metadata": {},
   "source": [
    "write_api.write(bucket, org, data)"
   ]
  }
 ],
 "metadata": {
  "kernelspec": {
   "display_name": "Python 3 (ipykernel)",
   "language": "python",
   "name": "python3"
  },
  "language_info": {
   "codemirror_mode": {
    "name": "ipython",
    "version": 3
   },
   "file_extension": ".py",
   "mimetype": "text/x-python",
   "name": "python",
   "nbconvert_exporter": "python",
   "pygments_lexer": "ipython3",
   "version": "3.9.7"
  }
 },
 "nbformat": 4,
 "nbformat_minor": 5
}
